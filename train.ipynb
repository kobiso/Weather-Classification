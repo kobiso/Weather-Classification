{
 "cells": [
  {
   "cell_type": "code",
   "execution_count": 11,
   "metadata": {},
   "outputs": [],
   "source": [
    "from keras.callbacks import TensorBoard, ModelCheckpoint, EarlyStopping, CSVLogger\n",
    "from models import ResearchModels\n",
    "from data import DataSet\n",
    "from sklearn.metrics import classification_report, confusion_matrix\n",
    "import random\n",
    "import numpy as np\n",
    "import time\n",
    "\n",
    "model = 'crnn'  # see `models.py` for more\n",
    "\n",
    "#32 for LSTM; 8 for CRNN; 5 for CNN-3d\n",
    "if model == 'conv_3d' or model == 'c3d':\n",
    "    batch_size = 5\n",
    "elif model == 'crnn' or model =='lrcn':\n",
    "    batch_size = 8\n",
    "else:\n",
    "    batch_size = 32\n",
    "\n",
    "saved_model = None  # None or weights file\n",
    "class_limit = None  # int, can be 1-101 or None\n",
    "seq_length = 90\n",
    "load_to_memory = True  # pre-load the sequences into memory\n",
    "\n",
    "# Chose images or features and image shape based on network.\n",
    "if model == 'conv_3d' or model == 'c3d':\n",
    "    data_type = 'images'\n",
    "    image_shape = (112, 63, 3) # Work for 3dcnn with batch size 5\n",
    "    load_to_memory = False\n",
    "elif model == 'crnn':\n",
    "    data_type = 'images'\n",
    "    image_shape = (144, 81, 3) # Work for crnn with batch size 8\n",
    "    load_to_memory = False\n",
    "elif model == 'lrcn':\n",
    "    data_type = 'images'\n",
    "    image_shape = (144, 81, 3)\n",
    "    #load_to_memory = False\n",
    "else:\n",
    "    data_type = 'features'\n",
    "    image_shape = None\n",
    "\n",
    "# MLP requires flattened features.\n",
    "if model == 'mlp':\n",
    "    concat = True\n",
    "else:\n",
    "    concat = False"
   ]
  },
  {
   "cell_type": "code",
   "execution_count": 12,
   "metadata": {},
   "outputs": [
    {
     "name": "stdout",
     "output_type": "stream",
     "text": [
      "env: CUDA_VISIBLE_DEVICES=1\n",
      "Loading CRNN model.\n",
      "Created model and loaded weights from file\n"
     ]
    }
   ],
   "source": [
    "%env CUDA_VISIBLE_DEVICES=1\n",
    "# Get the data and process it.\n",
    "\n",
    "if image_shape is None:\n",
    "    data = DataSet(\n",
    "        seq_length=seq_length,\n",
    "        class_limit=class_limit\n",
    "    )\n",
    "else:\n",
    "    data = DataSet(\n",
    "        seq_length=seq_length,\n",
    "        class_limit=class_limit,\n",
    "        image_shape=image_shape\n",
    "    )\n",
    "    \n",
    "train, test, validation = data.split_train_test()\n",
    "steps_per_epoch = len(train) // batch_size\n",
    "    \n",
    "if load_to_memory:\n",
    "    # Get data.\n",
    "    X_test, y_test = data.get_all_sequences_in_memory('test', data_type, concat)\n",
    "else:\n",
    "    # Get generators.\n",
    "    test_generator = data.frame_generator(batch_size, 'test', data_type, concat)\n",
    "    \n",
    "rm = ResearchModels(len(data.classes), model, seq_length, saved_model)\n",
    "rm.model.load_weights(\"/hdd/lizhun/MeteorologicalAgency_videoclassification/data/checkpoints/crnn-images_1000epoch.hdf5\")\n",
    "print(\"Created model and loaded weights from file\")"
   ]
  },
  {
   "cell_type": "code",
   "execution_count": 13,
   "metadata": {},
   "outputs": [
    {
     "name": "stdout",
     "output_type": "stream",
     "text": [
      "Creating test generator with 298 samples.\n",
      "\n",
      "Evaluation results on test data is:\n",
      "[0.88459355283427887, 0.64527027027027029]\n",
      "['loss', 'acc']\n",
      "acc: 64.53%\n"
     ]
    }
   ],
   "source": [
    "from data import DataSet\n",
    "if load_to_memory:\n",
    "    # evaluate model\n",
    "    results = rm.model.evaluate(\n",
    "        X_test,\n",
    "        y_test,\n",
    "        batch_size=batch_size,\n",
    "        verbose=1)\n",
    "    print()\n",
    "    print('Evaluation results on test data is:')\n",
    "    print(results)\n",
    "    print(rm.model.metrics_names)\n",
    "\n",
    "else:\n",
    "    # Evaluate!\n",
    "    results = rm.model.evaluate_generator(\n",
    "        generator=test_generator,\n",
    "        steps=len(test) // batch_size)\n",
    "    print()\n",
    "    print('Evaluation results on test data is:')\n",
    "    print(results)\n",
    "    print(rm.model.metrics_names)\n",
    "print(\"%s: %.2f%%\" % (rm.model.metrics_names[1], results[1]*100))"
   ]
  },
  {
   "cell_type": "code",
   "execution_count": 14,
   "metadata": {},
   "outputs": [
    {
     "name": "stdout",
     "output_type": "stream",
     "text": [
      "Creating test generator with 298 samples.\n",
      "304\n",
      "296\n"
     ]
    }
   ],
   "source": [
    "y_label = [] # Append true label for generator\n",
    "def frame_generator(batch_size, train_test, data_type, concat=False):\n",
    "    \"\"\"Return a generator that we can use to train on. There are\n",
    "    a couple different things we can return:\n",
    "\n",
    "    data_type: 'features', 'images'\n",
    "    \"\"\"\n",
    "    # Get the right dataset for the generator.\n",
    "    train, test, validation = data.split_train_test()\n",
    "    # data = train if train_test == 'train' else test\n",
    "    if train_test == 'train':\n",
    "        dataa = train\n",
    "    elif train_test == 'test':\n",
    "        dataa = test\n",
    "    else:\n",
    "        dataa = validation\n",
    "\n",
    "    print(\"Creating %s generator with %d samples.\" % (train_test, len(dataa)))\n",
    "\n",
    "    while 1:\n",
    "        X, y = [], []\n",
    "\n",
    "        # Generate batch_size samples.\n",
    "        for _ in range(batch_size):\n",
    "            # Reset to be safe.\n",
    "            sequence = None\n",
    "\n",
    "            # Get a random sample.\n",
    "            #sample = data # for confusion matrix\n",
    "            sample = random.choice(dataa) # for training\n",
    "\n",
    "            # Check to see if we've already saved this sequence.\n",
    "            if data_type is \"images\":\n",
    "                # Get and resample frames.\n",
    "                frames = data.get_frames_for_sample(sample)\n",
    "                frames = data.rescale_list(frames, data.seq_length)\n",
    "\n",
    "                # Build the image sequence\n",
    "                sequence = data.build_image_sequence(frames)\n",
    "            else:\n",
    "                # Get the sequence from disk.\n",
    "                sequence = data.get_extracted_sequence(data_type, sample)\n",
    "\n",
    "            if sequence is None:\n",
    "                print(\"Can't find sequence. Did you generate them?\")\n",
    "                sys.exit()  # TODO this should raise\n",
    "\n",
    "            if concat:\n",
    "                # We want to pass the sequence back as a single array. This\n",
    "                # is used to pass into an MLP rather than an RNN.\n",
    "                sequence = np.concatenate(sequence).ravel()\n",
    "\n",
    "            X.append(sequence)\n",
    "            y_label.append(data.get_class_one_hot(sample[1]))\n",
    "\n",
    "        yield np.array(X), np.array(y)\n",
    "\n",
    "test_generator = frame_generator(batch_size, 'test', data_type, concat)\n",
    "if load_to_memory:\n",
    "    y_pred = rm.model.predict_classes(X_test)\n",
    "else:\n",
    "    y_pred_raw = rm.model.predict_generator(\n",
    "        generator=test_generator,\n",
    "        steps=len(test) // batch_size)\n",
    "#print(y_pred_raw)\n",
    "#print(np.argmax(y_label,axis=1))\n",
    "print(len(y_label))\n",
    "print(len(y_pred_raw))"
   ]
  },
  {
   "cell_type": "code",
   "execution_count": 15,
   "metadata": {},
   "outputs": [
    {
     "name": "stdout",
     "output_type": "stream",
     "text": [
      "[[ 45  59]\n",
      " [ 54 138]]\n"
     ]
    }
   ],
   "source": [
    "#print (sum(1 for i in y_true if i==1))\n",
    "y_test = y_label[:296] # 530 for 3dcnn, 528 for crnn\n",
    "y_pred = y_pred_raw.argmax(axis=-1)\n",
    "print(confusion_matrix(np.argmax(y_test,axis=1), y_pred))"
   ]
  },
  {
   "cell_type": "code",
   "execution_count": 16,
   "metadata": {},
   "outputs": [
    {
     "name": "stdout",
     "output_type": "stream",
     "text": [
      "Automatically created module for IPython interactive environment\n",
      "Confusion matrix, without normalization\n",
      "[[ 45  59]\n",
      " [ 54 138]]\n",
      "Normalized confusion matrix\n",
      "[[ 0.43  0.57]\n",
      " [ 0.28  0.72]]\n"
     ]
    },
    {
     "data": {
      "image/png": "[encoded data removed]",
      "text/plain": [
       "<matplotlib.figure.Figure at 0x7f0be9b3efd0>"
      ]
     },
     "metadata": {},
     "output_type": "display_data"
    },
    {
     "data": {
      "image/png": "[encoded data removed]",
      "text/plain": [
       "<matplotlib.figure.Figure at 0x7f0be9c7b588>"
      ]
     },
     "metadata": {},
     "output_type": "display_data"
    }
   ],
   "source": [
    "# %matplotlib inline\n",
    "print(__doc__)\n",
    "\n",
    "import itertools\n",
    "import numpy as np\n",
    "import matplotlib.pyplot as plt\n",
    "\n",
    "# from sklearn import svm, datasets\n",
    "# from sklearn.model_selection import train_test_split\n",
    "# from sklearn.metrics import confusion_matrix\n",
    "\n",
    "# import some data to play with\n",
    "# iris = datasets.load_iris()\n",
    "# X = iris.data\n",
    "# y = iris.target\n",
    "# class_names = iris.target_names\n",
    "#class_names = ['1', '2', '3', '4', '5', '6']\n",
    "class_names = ['1', '2']\n",
    "# \n",
    "# # Split the data into a training set and a test set\n",
    "# X_train, X_test, y_train, y_test = train_test_split(X, y, random_state=0)\n",
    "# \n",
    "# # Run classifier, using a model that is too regularized (C too low) to see\n",
    "# # the impact on the results\n",
    "# classifier = svm.SVC(kernel='linear', C=0.01)\n",
    "# y_pred = classifier.fit(X_train, y_train).predict(X_test)\n",
    "\n",
    "\n",
    "def plot_confusion_matrix(cm, classes,\n",
    "                          normalize=False,\n",
    "                          title='Confusion matrix',\n",
    "                          cmap=plt.cm.Blues):\n",
    "    \"\"\"\n",
    "    This function prints and plots the confusion matrix.\n",
    "    Normalization can be applied by setting `normalize=True`.\n",
    "    \"\"\"\n",
    "    if normalize:\n",
    "        cm = cm.astype('float') / cm.sum(axis=1)[:, np.newaxis]\n",
    "        print(\"Normalized confusion matrix\")\n",
    "    else:\n",
    "        print('Confusion matrix, without normalization')\n",
    "\n",
    "    print(cm)\n",
    "\n",
    "    plt.imshow(cm, interpolation='nearest', cmap=cmap)\n",
    "    plt.title(title)\n",
    "    plt.colorbar()\n",
    "    tick_marks = np.arange(len(classes))\n",
    "    plt.xticks(tick_marks, classes, rotation=45)\n",
    "    plt.yticks(tick_marks, classes)\n",
    "\n",
    "    fmt = '.2f' if normalize else 'd'\n",
    "    thresh = cm.max() / 2.\n",
    "    for i, j in itertools.product(range(cm.shape[0]), range(cm.shape[1])):\n",
    "        plt.text(j, i, format(cm[i, j], fmt),\n",
    "                 horizontalalignment=\"center\",\n",
    "                 color=\"white\" if cm[i, j] > thresh else \"black\")\n",
    "\n",
    "    plt.tight_layout()\n",
    "    plt.ylabel('True label')\n",
    "    plt.xlabel('Predicted label')\n",
    "\n",
    "# Compute confusion matrix\n",
    "cnf_matrix = confusion_matrix(np.argmax(y_test,axis=1), y_pred)\n",
    "np.set_printoptions(precision=2)\n",
    "\n",
    "# Plot non-normalized confusion matrix\n",
    "fig1 = plt.figure()\n",
    "plot_confusion_matrix(cnf_matrix, classes=class_names,\n",
    "                      title='Confusion matrix, without normalization')\n",
    "\n",
    "# Plot normalized confusion matrix\n",
    "fig2 = plt.figure()\n",
    "plot_confusion_matrix(cnf_matrix, classes=class_names, normalize=True,\n",
    "                      title='Normalized confusion matrix')\n",
    "\n",
    "plt.show()"
   ]
  },
  {
   "cell_type": "code",
   "execution_count": 17,
   "metadata": {
    "collapsed": true
   },
   "outputs": [],
   "source": [
    "#fig2.savefig('./cm_lstm.png') # Use fig. here\n",
    "fig2.savefig('./cm_lstm.png', dpi=1000, bbox_inches='tight') # Better quality and no cropped title"
   ]
  }
 ],
 "metadata": {
  "kernelspec": {
   "display_name": "Python 3",
   "language": "python",
   "name": "python3"
  },
  "language_info": {
   "codemirror_mode": {
    "name": "ipython",
    "version": 3
   },
   "file_extension": ".py",
   "mimetype": "text/x-python",
   "name": "python",
   "nbconvert_exporter": "python",
   "pygments_lexer": "ipython3",
   "version": "3.5.2"
  }
 },
 "nbformat": 4,
 "nbformat_minor": 1
}
